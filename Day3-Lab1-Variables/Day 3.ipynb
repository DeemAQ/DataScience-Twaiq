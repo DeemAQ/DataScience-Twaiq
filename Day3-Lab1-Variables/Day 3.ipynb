{
 "cells": [
  {
   "cell_type": "code",
   "execution_count": 7,
   "id": "9078cef0",
   "metadata": {},
   "outputs": [],
   "source": [
    "fav_season = \"Spring\"\n",
    "x = 8\n",
    "y = 5.01\n",
    "var1 = var2 = var3 = 1\n",
    "t, w, a, i, q = \"T\", \"W\", \"A\", \"I\", \"Q\""
   ]
  },
  {
   "cell_type": "code",
   "execution_count": null,
   "id": "f0debc53",
   "metadata": {},
   "outputs": [],
   "source": []
  }
 ],
 "metadata": {
  "kernelspec": {
   "display_name": "Python 3 (ipykernel)",
   "language": "python",
   "name": "python3"
  },
  "language_info": {
   "codemirror_mode": {
    "name": "ipython",
    "version": 3
   },
   "file_extension": ".py",
   "mimetype": "text/x-python",
   "name": "python",
   "nbconvert_exporter": "python",
   "pygments_lexer": "ipython3",
   "version": "3.9.12"
  }
 },
 "nbformat": 4,
 "nbformat_minor": 5
}
