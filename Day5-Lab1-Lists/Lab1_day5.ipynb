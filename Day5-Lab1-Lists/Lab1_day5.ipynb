{
  "nbformat": 4,
  "nbformat_minor": 0,
  "metadata": {
    "colab": {
      "name": "Lab1 day5.ipynb",
      "provenance": [],
      "collapsed_sections": []
    },
    "kernelspec": {
      "name": "python3",
      "display_name": "Python 3"
    },
    "language_info": {
      "name": "python"
    }
  },
  "cells": [
    {
      "cell_type": "code",
      "execution_count": 3,
      "metadata": {
        "colab": {
          "base_uri": "https://localhost:8080/"
        },
        "id": "YgUNWDKx4vbJ",
        "outputId": "4669fb87-0c72-4230-f152-83d1c1a0081b"
      },
      "outputs": [
        {
          "output_type": "stream",
          "name": "stdout",
          "text": [
            "Q1: 139\n",
            "Q2: 45\n",
            "Q3: [4, 30, 2, 10]\n",
            "Q4: [2, 7, 10, 45]\n"
          ]
        }
      ],
      "source": [
        "list1 = [5, 4, 17, 19, 30, 2, 7, 10, 45]\n",
        "\n",
        "print(\"Q1:\", sum(list1))\n",
        "\n",
        "print(\"Q2:\", max(list1))\n",
        "\n",
        "print(\"Q3:\", [i for i in list1 if i%2==0])\n",
        "\n",
        "print(\"Q4:\", list1[5:])"
      ]
    }
  ]
}