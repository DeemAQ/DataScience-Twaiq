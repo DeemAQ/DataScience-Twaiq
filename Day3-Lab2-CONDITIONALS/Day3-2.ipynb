{
 "cells": [
  {
   "cell_type": "code",
   "execution_count": 5,
   "id": "b9f769c5",
   "metadata": {},
   "outputs": [
    {
     "name": "stdout",
     "output_type": "stream",
     "text": [
      "Highly recommended\n"
     ]
    }
   ],
   "source": [
    "movie = \"dune\"\n",
    "rating = 3\n",
    "pop_score = 72.65\n",
    "\n",
    "if rating >= 4 and pop_score > 80:\n",
    "    print(\"Highly recommended\")\n",
    "elif rating >= 3 and pop_score > 70:\n",
    "    print(\"I recommend it. It is good\")\n",
    "elif rating <= 2 and pop_score > 60:\n",
    "    print(\"You should check it out\")\n",
    "elif rating <= 2 and pop_score < 50:\n",
    "    print(\"Don't watch it. It is a waste of time\")\n",
    "else:\n",
    "    print(\"Maybe watch it?\")"
   ]
  },
  {
   "cell_type": "code",
   "execution_count": null,
   "id": "4ee4b63f",
   "metadata": {},
   "outputs": [],
   "source": []
  }
 ],
 "metadata": {
  "kernelspec": {
   "display_name": "Python 3 (ipykernel)",
   "language": "python",
   "name": "python3"
  },
  "language_info": {
   "codemirror_mode": {
    "name": "ipython",
    "version": 3
   },
   "file_extension": ".py",
   "mimetype": "text/x-python",
   "name": "python",
   "nbconvert_exporter": "python",
   "pygments_lexer": "ipython3",
   "version": "3.9.12"
  }
 },
 "nbformat": 4,
 "nbformat_minor": 5
}
