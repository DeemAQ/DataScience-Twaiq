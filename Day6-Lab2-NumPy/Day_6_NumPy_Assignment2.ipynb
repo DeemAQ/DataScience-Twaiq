{
  "nbformat": 4,
  "nbformat_minor": 0,
  "metadata": {
    "colab": {
      "name": "Day#6_NumPy_Assignment2.ipynb",
      "provenance": [],
      "collapsed_sections": []
    },
    "kernelspec": {
      "name": "python3",
      "display_name": "Python 3"
    },
    "language_info": {
      "name": "python"
    }
  },
  "cells": [
    {
      "cell_type": "code",
      "execution_count": 1,
      "metadata": {
        "id": "r7c48yNSUEtv"
      },
      "outputs": [],
      "source": [
        "import numpy as np"
      ]
    },
    {
      "cell_type": "code",
      "source": [
        "a = np.linspace(0, 3, 15)\n",
        "a"
      ],
      "metadata": {
        "colab": {
          "base_uri": "https://localhost:8080/"
        },
        "id": "blYd_GT1U9gH",
        "outputId": "dcdc484c-7a47-46c6-d78d-34c063df47f2"
      },
      "execution_count": 7,
      "outputs": [
        {
          "output_type": "execute_result",
          "data": {
            "text/plain": [
              "array([0.        , 0.21428571, 0.42857143, 0.64285714, 0.85714286,\n",
              "       1.07142857, 1.28571429, 1.5       , 1.71428571, 1.92857143,\n",
              "       2.14285714, 2.35714286, 2.57142857, 2.78571429, 3.        ])"
            ]
          },
          "metadata": {},
          "execution_count": 7
        }
      ]
    },
    {
      "cell_type": "code",
      "source": [
        "arr = np.array([[[1.1, 2.1, 3.1],\n",
        "                 [4.1, 5.1, 6.1]],\n",
        "                 [[7.1, 8.1, 9.1],\n",
        "                  [10.1, 11.1, 12.1]]])"
      ],
      "metadata": {
        "id": "umV5oOlaULYD"
      },
      "execution_count": 8,
      "outputs": []
    },
    {
      "cell_type": "code",
      "source": [
        "arr.dtype"
      ],
      "metadata": {
        "colab": {
          "base_uri": "https://localhost:8080/"
        },
        "id": "ijR4elCfVVIr",
        "outputId": "97f6c53d-ae09-4d50-e559-b288c4e22e9b"
      },
      "execution_count": 9,
      "outputs": [
        {
          "output_type": "execute_result",
          "data": {
            "text/plain": [
              "dtype('float64')"
            ]
          },
          "metadata": {},
          "execution_count": 9
        }
      ]
    },
    {
      "cell_type": "code",
      "source": [
        "type(arr)"
      ],
      "metadata": {
        "colab": {
          "base_uri": "https://localhost:8080/"
        },
        "id": "TKh0ra2qVbxR",
        "outputId": "290f3bcc-e3cf-4988-d75c-c35074ef0fcf"
      },
      "execution_count": 13,
      "outputs": [
        {
          "output_type": "execute_result",
          "data": {
            "text/plain": [
              "numpy.ndarray"
            ]
          },
          "metadata": {},
          "execution_count": 13
        }
      ]
    },
    {
      "cell_type": "code",
      "source": [
        "arr.shape"
      ],
      "metadata": {
        "colab": {
          "base_uri": "https://localhost:8080/"
        },
        "id": "GVCRcZI-Ve_0",
        "outputId": "7f807edb-870b-4793-98bc-776b0e71d12e"
      },
      "execution_count": 10,
      "outputs": [
        {
          "output_type": "execute_result",
          "data": {
            "text/plain": [
              "(2, 2, 3)"
            ]
          },
          "metadata": {},
          "execution_count": 10
        }
      ]
    },
    {
      "cell_type": "code",
      "source": [
        "arr.size"
      ],
      "metadata": {
        "colab": {
          "base_uri": "https://localhost:8080/"
        },
        "id": "BEpH02k0Vhbn",
        "outputId": "cf554dc2-4fde-40b9-9d5d-8b56e2b68b6a"
      },
      "execution_count": 11,
      "outputs": [
        {
          "output_type": "execute_result",
          "data": {
            "text/plain": [
              "12"
            ]
          },
          "metadata": {},
          "execution_count": 11
        }
      ]
    },
    {
      "cell_type": "code",
      "source": [
        "arr.ndim"
      ],
      "metadata": {
        "colab": {
          "base_uri": "https://localhost:8080/"
        },
        "id": "Qv79BUFvVjmx",
        "outputId": "9d360ea8-e8a1-4897-fce7-45cba5346cad"
      },
      "execution_count": 12,
      "outputs": [
        {
          "output_type": "execute_result",
          "data": {
            "text/plain": [
              "3"
            ]
          },
          "metadata": {},
          "execution_count": 12
        }
      ]
    },
    {
      "cell_type": "code",
      "source": [
        "arr2 = arr.reshape(2, 2, 3, 1)\n",
        "arr2"
      ],
      "metadata": {
        "colab": {
          "base_uri": "https://localhost:8080/"
        },
        "id": "otx42wkoV0-O",
        "outputId": "d98422d9-bce3-4d87-d678-374e44ebff7e"
      },
      "execution_count": 19,
      "outputs": [
        {
          "output_type": "execute_result",
          "data": {
            "text/plain": [
              "array([[[[ 1.1],\n",
              "         [ 2.1],\n",
              "         [ 3.1]],\n",
              "\n",
              "        [[ 4.1],\n",
              "         [ 5.1],\n",
              "         [ 6.1]]],\n",
              "\n",
              "\n",
              "       [[[ 7.1],\n",
              "         [ 8.1],\n",
              "         [ 9.1]],\n",
              "\n",
              "        [[10.1],\n",
              "         [11.1],\n",
              "         [12.1]]]])"
            ]
          },
          "metadata": {},
          "execution_count": 19
        }
      ]
    },
    {
      "cell_type": "code",
      "source": [
        "arr2.shape"
      ],
      "metadata": {
        "colab": {
          "base_uri": "https://localhost:8080/"
        },
        "id": "HYzyV0pKWVpM",
        "outputId": "fc41c007-fa9a-4d9e-864b-12e3cf04509d"
      },
      "execution_count": 20,
      "outputs": [
        {
          "output_type": "execute_result",
          "data": {
            "text/plain": [
              "(2, 2, 3, 1)"
            ]
          },
          "metadata": {},
          "execution_count": 20
        }
      ]
    },
    {
      "cell_type": "code",
      "source": [
        "arr2.ndim"
      ],
      "metadata": {
        "colab": {
          "base_uri": "https://localhost:8080/"
        },
        "id": "gqwZ0mi7WaPk",
        "outputId": "a1176cda-30a3-49e5-91c6-b23bf22c638f"
      },
      "execution_count": 21,
      "outputs": [
        {
          "output_type": "execute_result",
          "data": {
            "text/plain": [
              "4"
            ]
          },
          "metadata": {},
          "execution_count": 21
        }
      ]
    },
    {
      "cell_type": "code",
      "source": [
        "arr3 = arr2.astype(int)\n",
        "arr3"
      ],
      "metadata": {
        "colab": {
          "base_uri": "https://localhost:8080/"
        },
        "id": "kZt-suhZWb9Y",
        "outputId": "e04ce5ad-6cd2-468f-c621-8c38b1e0e400"
      },
      "execution_count": 23,
      "outputs": [
        {
          "output_type": "execute_result",
          "data": {
            "text/plain": [
              "array([[[[ 1],\n",
              "         [ 2],\n",
              "         [ 3]],\n",
              "\n",
              "        [[ 4],\n",
              "         [ 5],\n",
              "         [ 6]]],\n",
              "\n",
              "\n",
              "       [[[ 7],\n",
              "         [ 8],\n",
              "         [ 9]],\n",
              "\n",
              "        [[10],\n",
              "         [11],\n",
              "         [12]]]])"
            ]
          },
          "metadata": {},
          "execution_count": 23
        }
      ]
    },
    {
      "cell_type": "code",
      "source": [
        "for i in np.nditer(arr3):\n",
        "  print(i)"
      ],
      "metadata": {
        "colab": {
          "base_uri": "https://localhost:8080/"
        },
        "id": "WNhaOj5BWmO3",
        "outputId": "e50f0e06-d3cb-4396-ca8a-0b6df996a11a"
      },
      "execution_count": 26,
      "outputs": [
        {
          "output_type": "stream",
          "name": "stdout",
          "text": [
            "1\n",
            "2\n",
            "3\n",
            "4\n",
            "5\n",
            "6\n",
            "7\n",
            "8\n",
            "9\n",
            "10\n",
            "11\n",
            "12\n"
          ]
        }
      ]
    },
    {
      "cell_type": "code",
      "source": [
        "arr3[1, 0, 1, 0]"
      ],
      "metadata": {
        "colab": {
          "base_uri": "https://localhost:8080/"
        },
        "id": "UaESK_ijWzhg",
        "outputId": "2cd9482a-16db-4fd5-d3cd-2f1d7ae6e589"
      },
      "execution_count": 37,
      "outputs": [
        {
          "output_type": "execute_result",
          "data": {
            "text/plain": [
              "8"
            ]
          },
          "metadata": {},
          "execution_count": 37
        }
      ]
    },
    {
      "cell_type": "code",
      "source": [
        "arr3[0, 1, 1:3, 0]"
      ],
      "metadata": {
        "colab": {
          "base_uri": "https://localhost:8080/"
        },
        "id": "54RNtD7iYHu0",
        "outputId": "526f9cf5-1f2a-4fce-e0d6-4f5b5cf71507"
      },
      "execution_count": 36,
      "outputs": [
        {
          "output_type": "execute_result",
          "data": {
            "text/plain": [
              "array([5, 6])"
            ]
          },
          "metadata": {},
          "execution_count": 36
        }
      ]
    },
    {
      "cell_type": "code",
      "source": [
        "np.where(arr3==8)"
      ],
      "metadata": {
        "colab": {
          "base_uri": "https://localhost:8080/"
        },
        "id": "pIkLjsu-YmS9",
        "outputId": "bd1580af-c12d-414b-f273-a097eb812cde"
      },
      "execution_count": 38,
      "outputs": [
        {
          "output_type": "execute_result",
          "data": {
            "text/plain": [
              "(array([1]), array([0]), array([1]), array([0]))"
            ]
          },
          "metadata": {},
          "execution_count": 38
        }
      ]
    },
    {
      "cell_type": "code",
      "source": [
        "arr4 = arr3.reshape(2, 3, 2)\n",
        "arr4"
      ],
      "metadata": {
        "colab": {
          "base_uri": "https://localhost:8080/"
        },
        "id": "8_ki_CsxYrp4",
        "outputId": "60982d55-3ffe-40d1-c8df-17440dbd3a34"
      },
      "execution_count": 42,
      "outputs": [
        {
          "output_type": "execute_result",
          "data": {
            "text/plain": [
              "array([[[ 1,  2],\n",
              "        [ 3,  4],\n",
              "        [ 5,  6]],\n",
              "\n",
              "       [[ 7,  8],\n",
              "        [ 9, 10],\n",
              "        [11, 12]]])"
            ]
          },
          "metadata": {},
          "execution_count": 42
        }
      ]
    },
    {
      "cell_type": "code",
      "source": [
        "arr1 = np.array([['A', 'B'], ['E', 'F']])\n",
        "arr2 = np.array([['C', 'D'], ['G', 'H']])"
      ],
      "metadata": {
        "id": "PP4TXiZkZEqT"
      },
      "execution_count": 43,
      "outputs": []
    },
    {
      "cell_type": "code",
      "source": [
        "arr5 = np.concatenate((arr1, arr2))"
      ],
      "metadata": {
        "id": "t1yPtAq3ZK_Y"
      },
      "execution_count": 51,
      "outputs": []
    },
    {
      "cell_type": "code",
      "source": [
        "np.concatenate((arr1, arr2), axis=1)"
      ],
      "metadata": {
        "colab": {
          "base_uri": "https://localhost:8080/"
        },
        "id": "ykEmg1iFZj-C",
        "outputId": "09696b59-56a4-49dc-d670-4442392cbc38"
      },
      "execution_count": 50,
      "outputs": [
        {
          "output_type": "execute_result",
          "data": {
            "text/plain": [
              "array([['A', 'B', 'C', 'D'],\n",
              "       ['E', 'F', 'G', 'H']], dtype='<U1')"
            ]
          },
          "metadata": {},
          "execution_count": 50
        }
      ]
    },
    {
      "cell_type": "code",
      "source": [
        "np.split(arr5, [1], axis=1)"
      ],
      "metadata": {
        "colab": {
          "base_uri": "https://localhost:8080/"
        },
        "id": "_Y2tWvFGZr2i",
        "outputId": "407dd656-f914-4f00-dba4-c6968c9e3bf4"
      },
      "execution_count": 52,
      "outputs": [
        {
          "output_type": "execute_result",
          "data": {
            "text/plain": [
              "[array([['A'],\n",
              "        ['E'],\n",
              "        ['C'],\n",
              "        ['G']], dtype='<U1'), array([['B'],\n",
              "        ['F'],\n",
              "        ['D'],\n",
              "        ['H']], dtype='<U1')]"
            ]
          },
          "metadata": {},
          "execution_count": 52
        }
      ]
    }
  ]
}