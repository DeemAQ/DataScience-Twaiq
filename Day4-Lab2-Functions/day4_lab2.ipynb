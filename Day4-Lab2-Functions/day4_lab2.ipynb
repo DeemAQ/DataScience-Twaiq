{
  "nbformat": 4,
  "nbformat_minor": 0,
  "metadata": {
    "colab": {
      "name": "day4-lab2.ipynb",
      "provenance": [],
      "collapsed_sections": []
    },
    "kernelspec": {
      "name": "python3",
      "display_name": "Python 3"
    },
    "language_info": {
      "name": "python"
    }
  },
  "cells": [
    {
      "cell_type": "code",
      "source": [
        "def foo(x):\n",
        "  for i in range(1, x+1):\n",
        "    nums=[]\n",
        "    for j in range(1, x+1):\n",
        "      nums.append(j)\n",
        "      j -= 1\n",
        "    nums.sort(reverse=True)\n",
        "    print(*nums)\n",
        "    x-=1\n",
        "    i-=1\n",
        "\n",
        "foo(5)"
      ],
      "metadata": {
        "colab": {
          "base_uri": "https://localhost:8080/"
        },
        "id": "ss1VgdcO8crY",
        "outputId": "820d67c1-a0c4-4af0-f6ca-5790a612e7c8"
      },
      "execution_count": 23,
      "outputs": [
        {
          "output_type": "stream",
          "name": "stdout",
          "text": [
            "5 4 3 2 1\n",
            "4 3 2 1\n",
            "3 2 1\n",
            "2 1\n",
            "1\n"
          ]
        }
      ]
    }
  ]
}