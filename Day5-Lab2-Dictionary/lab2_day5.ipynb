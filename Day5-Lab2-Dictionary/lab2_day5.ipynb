{
  "nbformat": 4,
  "nbformat_minor": 0,
  "metadata": {
    "colab": {
      "name": "lab2 day5.ipynb",
      "provenance": []
    },
    "kernelspec": {
      "name": "python3",
      "display_name": "Python 3"
    },
    "language_info": {
      "name": "python"
    }
  },
  "cells": [
    {
      "cell_type": "code",
      "execution_count": 24,
      "metadata": {
        "colab": {
          "base_uri": "https://localhost:8080/"
        },
        "id": "YLUIx6EeTgo6",
        "outputId": "a2013d3e-8c5b-40d4-bed6-b036f3b1b863"
      },
      "outputs": [
        {
          "output_type": "stream",
          "name": "stdout",
          "text": [
            "Please enter the phone number: 7777777777\n",
            "Layla\n"
          ]
        }
      ],
      "source": [
        "phone_lib = {\n",
        "    \"Amal\": \"1111111111\",\n",
        "    \"Mohammed\": \"2222222222\",\n",
        "    \"Khadijah\": \"3333333333\",\n",
        "    \"Abdullah\": \"4444444444\",\n",
        "    \"Rawan\": \"5555555555\",\n",
        "    \"Faisal\": \"6666666666\",\n",
        "    \"Layla\": \"7777777777\"\n",
        "}\n",
        "\n",
        "\n",
        "def getName():\n",
        "  while True:\n",
        "    phone_num = input(\"Please enter the phone number: \").strip()\n",
        "    if len(phone_num)!=10 or phone_num.isdigit()==False:\n",
        "      print(\"try again\")\n",
        "    else:\n",
        "      break\n",
        "  \n",
        "  for name, phone in phone_lib.items():\n",
        "    if phone_num == phone:\n",
        "      return name\n",
        "    \n",
        "      \n",
        "  return \"Sorry, the number was not found\"\n",
        "\n",
        "\n",
        "print(getName())"
      ]
    }
  ]
}