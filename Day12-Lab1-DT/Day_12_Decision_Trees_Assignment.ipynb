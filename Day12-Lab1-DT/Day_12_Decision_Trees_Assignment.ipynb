{
  "cells": [
    {
      "cell_type": "markdown",
      "id": "d985f77b",
      "metadata": {
        "id": "d985f77b"
      },
      "source": [
        "|  Column name  |  Description  |\n",
        "| ----- | ------- |\n",
        "| Num_posts        | Number of total posts that the user has ever posted   |\n",
        "| Num_following    | Number of following                                   |\n",
        "| Num_followers    | Number of followers                                   |\n",
        "| Biography_length | Length (number of characters) of the user's biography |\n",
        "| Picture_availability | Value 0 if the user has no profile picture, or 1 if has |\n",
        "| Link_availability| Value 0 if the user has no external URL, or 1 if has |\n",
        "| Average_caption_length | The average number of character of captions in media |\n",
        "| Caption_zero     | Percentage (0.0 to 1.0) of captions that has almost zero (<=3) length |\n",
        "| Non_image_percentage | Percentage (0.0 to 1.0) of non-image media. There are three types of media on an Instagram post, i.e. image, video, carousel\n",
        "| Engagement_rate_like | Engagement rate (ER) is commonly defined as (num likes) divide by (num media) divide by (num followers)\n",
        "| Engagement_rate_comment | Similar to ER like, but it is for comments |\n",
        "| Location_tag_percentage | Percentage (0.0 to 1.0) of posts tagged with location |\n",
        "| Average_hashtag_count   | Average number of hashtags used in a post |\n",
        "| Promotional_keywords | Average use of promotional keywords in hashtag, i.e. regrann, contest, repost, giveaway, mention, share, give away, quiz |\n",
        "| Followers_keywords | Average use of followers hunter keywords in hashtag, i.e. follow, like, folback, follback, f4f|\n",
        "| Cosine_similarity  | Average cosine similarity of between all pair of two posts a user has |\n",
        "| Post_interval      | Average interval between posts (in hours) |\n",
        "| real_fake          | r (real/authentic user), f (fake user/bought followers) |"
      ]
    },
    {
      "cell_type": "markdown",
      "id": "0589474a",
      "metadata": {
        "id": "0589474a"
      },
      "source": [
        "# Q1: Import labraries"
      ]
    },
    {
      "cell_type": "code",
      "execution_count": 25,
      "id": "13f00a6a",
      "metadata": {
        "id": "13f00a6a"
      },
      "outputs": [],
      "source": [
        "import pandas as pd\n",
        "from sklearn.model_selection import train_test_split\n",
        "from sklearn.metrics import plot_confusion_matrix\n"
      ]
    },
    {
      "cell_type": "markdown",
      "id": "fc2557da",
      "metadata": {
        "id": "fc2557da"
      },
      "source": [
        "# Q2: Read instagram_users.csv file"
      ]
    },
    {
      "cell_type": "code",
      "execution_count": 26,
      "id": "f7c3f583",
      "metadata": {
        "colab": {
          "base_uri": "https://localhost:8080/",
          "height": 488
        },
        "id": "f7c3f583",
        "outputId": "f885bcb2-6ff7-4e8e-9772-5451e129ce08"
      },
      "outputs": [
        {
          "output_type": "execute_result",
          "data": {
            "text/plain": [
              "        Num_posts  Num_following  Num_followers  Biography_length  \\\n",
              "0              44             48            325                33   \n",
              "1              10             66            321               150   \n",
              "2              33            970            308               101   \n",
              "3              70             86            360                14   \n",
              "4               3             21            285                73   \n",
              "...           ...            ...            ...               ...   \n",
              "64239          13            145            642                 0   \n",
              "64240         652           3000           1300               146   \n",
              "64241        1500           3700           3200               147   \n",
              "64242         329           1500           1800               218   \n",
              "64243         206            659            608                27   \n",
              "\n",
              "       Picture_availability  Link_availability  Average_caption_length  \\\n",
              "0                         1                  0                      12   \n",
              "1                         1                  0                     213   \n",
              "2                         1                  1                     436   \n",
              "3                         1                  0                       0   \n",
              "4                         1                  0                      93   \n",
              "...                     ...                ...                     ...   \n",
              "64239                     1                  0                       7   \n",
              "64240                     1                  1                     384   \n",
              "64241                     1                  1                     129   \n",
              "64242                     1                  1                     290   \n",
              "64243                     1                  0                      77   \n",
              "\n",
              "       Caption_zero  Non_image_percentage  Engagement_rate_like  \\\n",
              "0          0.000000                 0.000              0.000000   \n",
              "1          0.000000                 1.000             14.390000   \n",
              "2          0.000000                 1.000             10.100000   \n",
              "3          1.000000                 0.000              0.780000   \n",
              "4          0.000000                 0.000             14.290000   \n",
              "...             ...                   ...                   ...   \n",
              "64239      0.461538                 0.000             14.270000   \n",
              "64240      0.000000                 0.389              8.520000   \n",
              "64241      0.000000                 0.111              9.390000   \n",
              "64242      0.055556                 0.000              6.350000   \n",
              "64243      0.000000                 0.333             25.549999   \n",
              "\n",
              "       Engagement_rate_comment  Location_tag_percentage  \\\n",
              "0                         0.00                    0.000   \n",
              "1                         1.97                    0.000   \n",
              "2                         0.30                    0.000   \n",
              "3                         0.06                    0.000   \n",
              "4                         0.00                    0.667   \n",
              "...                        ...                      ...   \n",
              "64239                     0.58                    0.000   \n",
              "64240                     0.13                    0.000   \n",
              "64241                     0.31                    0.722   \n",
              "64242                     0.26                    0.222   \n",
              "64243                     0.53                    0.222   \n",
              "\n",
              "       Average_hashtag_count  Promotional_keywords  Followers_keywords  \\\n",
              "0                      0.000                   0.0               0.000   \n",
              "1                      1.500                   0.0               0.000   \n",
              "2                      2.500                   0.0               0.056   \n",
              "3                      0.000                   0.0               0.000   \n",
              "4                      0.000                   0.0               0.000   \n",
              "...                      ...                   ...                 ...   \n",
              "64239                  0.077                   0.0               0.000   \n",
              "64240                  1.611                   0.0               0.000   \n",
              "64241                  0.000                   0.0               0.056   \n",
              "64242                  0.500                   0.0               0.000   \n",
              "64243                  0.222                   0.0               0.167   \n",
              "\n",
              "       Cosine_similarity  Post_interval real_fake  \n",
              "0               0.111111       0.094985      fake  \n",
              "1               0.206826     230.412857      fake  \n",
              "2               0.572174      43.569939      fake  \n",
              "3               1.000000       5.859799      fake  \n",
              "4               0.300494       0.126019      fake  \n",
              "...                  ...            ...       ...  \n",
              "64239           0.192308    1745.291260      real  \n",
              "64240           0.169917      54.629120      real  \n",
              "64241           0.058908     129.802048      real  \n",
              "64242           0.103174      53.402840      real  \n",
              "64243           0.017505     604.981445      real  \n",
              "\n",
              "[64244 rows x 18 columns]"
            ],
            "text/html": [
              "\n",
              "  <div id=\"df-b9a27bad-55dc-40bd-a1fe-0480b68c8e62\">\n",
              "    <div class=\"colab-df-container\">\n",
              "      <div>\n",
              "<style scoped>\n",
              "    .dataframe tbody tr th:only-of-type {\n",
              "        vertical-align: middle;\n",
              "    }\n",
              "\n",
              "    .dataframe tbody tr th {\n",
              "        vertical-align: top;\n",
              "    }\n",
              "\n",
              "    .dataframe thead th {\n",
              "        text-align: right;\n",
              "    }\n",
              "</style>\n",
              "<table border=\"1\" class=\"dataframe\">\n",
              "  <thead>\n",
              "    <tr style=\"text-align: right;\">\n",
              "      <th></th>\n",
              "      <th>Num_posts</th>\n",
              "      <th>Num_following</th>\n",
              "      <th>Num_followers</th>\n",
              "      <th>Biography_length</th>\n",
              "      <th>Picture_availability</th>\n",
              "      <th>Link_availability</th>\n",
              "      <th>Average_caption_length</th>\n",
              "      <th>Caption_zero</th>\n",
              "      <th>Non_image_percentage</th>\n",
              "      <th>Engagement_rate_like</th>\n",
              "      <th>Engagement_rate_comment</th>\n",
              "      <th>Location_tag_percentage</th>\n",
              "      <th>Average_hashtag_count</th>\n",
              "      <th>Promotional_keywords</th>\n",
              "      <th>Followers_keywords</th>\n",
              "      <th>Cosine_similarity</th>\n",
              "      <th>Post_interval</th>\n",
              "      <th>real_fake</th>\n",
              "    </tr>\n",
              "  </thead>\n",
              "  <tbody>\n",
              "    <tr>\n",
              "      <th>0</th>\n",
              "      <td>44</td>\n",
              "      <td>48</td>\n",
              "      <td>325</td>\n",
              "      <td>33</td>\n",
              "      <td>1</td>\n",
              "      <td>0</td>\n",
              "      <td>12</td>\n",
              "      <td>0.000000</td>\n",
              "      <td>0.000</td>\n",
              "      <td>0.000000</td>\n",
              "      <td>0.00</td>\n",
              "      <td>0.000</td>\n",
              "      <td>0.000</td>\n",
              "      <td>0.0</td>\n",
              "      <td>0.000</td>\n",
              "      <td>0.111111</td>\n",
              "      <td>0.094985</td>\n",
              "      <td>fake</td>\n",
              "    </tr>\n",
              "    <tr>\n",
              "      <th>1</th>\n",
              "      <td>10</td>\n",
              "      <td>66</td>\n",
              "      <td>321</td>\n",
              "      <td>150</td>\n",
              "      <td>1</td>\n",
              "      <td>0</td>\n",
              "      <td>213</td>\n",
              "      <td>0.000000</td>\n",
              "      <td>1.000</td>\n",
              "      <td>14.390000</td>\n",
              "      <td>1.97</td>\n",
              "      <td>0.000</td>\n",
              "      <td>1.500</td>\n",
              "      <td>0.0</td>\n",
              "      <td>0.000</td>\n",
              "      <td>0.206826</td>\n",
              "      <td>230.412857</td>\n",
              "      <td>fake</td>\n",
              "    </tr>\n",
              "    <tr>\n",
              "      <th>2</th>\n",
              "      <td>33</td>\n",
              "      <td>970</td>\n",
              "      <td>308</td>\n",
              "      <td>101</td>\n",
              "      <td>1</td>\n",
              "      <td>1</td>\n",
              "      <td>436</td>\n",
              "      <td>0.000000</td>\n",
              "      <td>1.000</td>\n",
              "      <td>10.100000</td>\n",
              "      <td>0.30</td>\n",
              "      <td>0.000</td>\n",
              "      <td>2.500</td>\n",
              "      <td>0.0</td>\n",
              "      <td>0.056</td>\n",
              "      <td>0.572174</td>\n",
              "      <td>43.569939</td>\n",
              "      <td>fake</td>\n",
              "    </tr>\n",
              "    <tr>\n",
              "      <th>3</th>\n",
              "      <td>70</td>\n",
              "      <td>86</td>\n",
              "      <td>360</td>\n",
              "      <td>14</td>\n",
              "      <td>1</td>\n",
              "      <td>0</td>\n",
              "      <td>0</td>\n",
              "      <td>1.000000</td>\n",
              "      <td>0.000</td>\n",
              "      <td>0.780000</td>\n",
              "      <td>0.06</td>\n",
              "      <td>0.000</td>\n",
              "      <td>0.000</td>\n",
              "      <td>0.0</td>\n",
              "      <td>0.000</td>\n",
              "      <td>1.000000</td>\n",
              "      <td>5.859799</td>\n",
              "      <td>fake</td>\n",
              "    </tr>\n",
              "    <tr>\n",
              "      <th>4</th>\n",
              "      <td>3</td>\n",
              "      <td>21</td>\n",
              "      <td>285</td>\n",
              "      <td>73</td>\n",
              "      <td>1</td>\n",
              "      <td>0</td>\n",
              "      <td>93</td>\n",
              "      <td>0.000000</td>\n",
              "      <td>0.000</td>\n",
              "      <td>14.290000</td>\n",
              "      <td>0.00</td>\n",
              "      <td>0.667</td>\n",
              "      <td>0.000</td>\n",
              "      <td>0.0</td>\n",
              "      <td>0.000</td>\n",
              "      <td>0.300494</td>\n",
              "      <td>0.126019</td>\n",
              "      <td>fake</td>\n",
              "    </tr>\n",
              "    <tr>\n",
              "      <th>...</th>\n",
              "      <td>...</td>\n",
              "      <td>...</td>\n",
              "      <td>...</td>\n",
              "      <td>...</td>\n",
              "      <td>...</td>\n",
              "      <td>...</td>\n",
              "      <td>...</td>\n",
              "      <td>...</td>\n",
              "      <td>...</td>\n",
              "      <td>...</td>\n",
              "      <td>...</td>\n",
              "      <td>...</td>\n",
              "      <td>...</td>\n",
              "      <td>...</td>\n",
              "      <td>...</td>\n",
              "      <td>...</td>\n",
              "      <td>...</td>\n",
              "      <td>...</td>\n",
              "    </tr>\n",
              "    <tr>\n",
              "      <th>64239</th>\n",
              "      <td>13</td>\n",
              "      <td>145</td>\n",
              "      <td>642</td>\n",
              "      <td>0</td>\n",
              "      <td>1</td>\n",
              "      <td>0</td>\n",
              "      <td>7</td>\n",
              "      <td>0.461538</td>\n",
              "      <td>0.000</td>\n",
              "      <td>14.270000</td>\n",
              "      <td>0.58</td>\n",
              "      <td>0.000</td>\n",
              "      <td>0.077</td>\n",
              "      <td>0.0</td>\n",
              "      <td>0.000</td>\n",
              "      <td>0.192308</td>\n",
              "      <td>1745.291260</td>\n",
              "      <td>real</td>\n",
              "    </tr>\n",
              "    <tr>\n",
              "      <th>64240</th>\n",
              "      <td>652</td>\n",
              "      <td>3000</td>\n",
              "      <td>1300</td>\n",
              "      <td>146</td>\n",
              "      <td>1</td>\n",
              "      <td>1</td>\n",
              "      <td>384</td>\n",
              "      <td>0.000000</td>\n",
              "      <td>0.389</td>\n",
              "      <td>8.520000</td>\n",
              "      <td>0.13</td>\n",
              "      <td>0.000</td>\n",
              "      <td>1.611</td>\n",
              "      <td>0.0</td>\n",
              "      <td>0.000</td>\n",
              "      <td>0.169917</td>\n",
              "      <td>54.629120</td>\n",
              "      <td>real</td>\n",
              "    </tr>\n",
              "    <tr>\n",
              "      <th>64241</th>\n",
              "      <td>1500</td>\n",
              "      <td>3700</td>\n",
              "      <td>3200</td>\n",
              "      <td>147</td>\n",
              "      <td>1</td>\n",
              "      <td>1</td>\n",
              "      <td>129</td>\n",
              "      <td>0.000000</td>\n",
              "      <td>0.111</td>\n",
              "      <td>9.390000</td>\n",
              "      <td>0.31</td>\n",
              "      <td>0.722</td>\n",
              "      <td>0.000</td>\n",
              "      <td>0.0</td>\n",
              "      <td>0.056</td>\n",
              "      <td>0.058908</td>\n",
              "      <td>129.802048</td>\n",
              "      <td>real</td>\n",
              "    </tr>\n",
              "    <tr>\n",
              "      <th>64242</th>\n",
              "      <td>329</td>\n",
              "      <td>1500</td>\n",
              "      <td>1800</td>\n",
              "      <td>218</td>\n",
              "      <td>1</td>\n",
              "      <td>1</td>\n",
              "      <td>290</td>\n",
              "      <td>0.055556</td>\n",
              "      <td>0.000</td>\n",
              "      <td>6.350000</td>\n",
              "      <td>0.26</td>\n",
              "      <td>0.222</td>\n",
              "      <td>0.500</td>\n",
              "      <td>0.0</td>\n",
              "      <td>0.000</td>\n",
              "      <td>0.103174</td>\n",
              "      <td>53.402840</td>\n",
              "      <td>real</td>\n",
              "    </tr>\n",
              "    <tr>\n",
              "      <th>64243</th>\n",
              "      <td>206</td>\n",
              "      <td>659</td>\n",
              "      <td>608</td>\n",
              "      <td>27</td>\n",
              "      <td>1</td>\n",
              "      <td>0</td>\n",
              "      <td>77</td>\n",
              "      <td>0.000000</td>\n",
              "      <td>0.333</td>\n",
              "      <td>25.549999</td>\n",
              "      <td>0.53</td>\n",
              "      <td>0.222</td>\n",
              "      <td>0.222</td>\n",
              "      <td>0.0</td>\n",
              "      <td>0.167</td>\n",
              "      <td>0.017505</td>\n",
              "      <td>604.981445</td>\n",
              "      <td>real</td>\n",
              "    </tr>\n",
              "  </tbody>\n",
              "</table>\n",
              "<p>64244 rows × 18 columns</p>\n",
              "</div>\n",
              "      <button class=\"colab-df-convert\" onclick=\"convertToInteractive('df-b9a27bad-55dc-40bd-a1fe-0480b68c8e62')\"\n",
              "              title=\"Convert this dataframe to an interactive table.\"\n",
              "              style=\"display:none;\">\n",
              "        \n",
              "  <svg xmlns=\"http://www.w3.org/2000/svg\" height=\"24px\"viewBox=\"0 0 24 24\"\n",
              "       width=\"24px\">\n",
              "    <path d=\"M0 0h24v24H0V0z\" fill=\"none\"/>\n",
              "    <path d=\"M18.56 5.44l.94 2.06.94-2.06 2.06-.94-2.06-.94-.94-2.06-.94 2.06-2.06.94zm-11 1L8.5 8.5l.94-2.06 2.06-.94-2.06-.94L8.5 2.5l-.94 2.06-2.06.94zm10 10l.94 2.06.94-2.06 2.06-.94-2.06-.94-.94-2.06-.94 2.06-2.06.94z\"/><path d=\"M17.41 7.96l-1.37-1.37c-.4-.4-.92-.59-1.43-.59-.52 0-1.04.2-1.43.59L10.3 9.45l-7.72 7.72c-.78.78-.78 2.05 0 2.83L4 21.41c.39.39.9.59 1.41.59.51 0 1.02-.2 1.41-.59l7.78-7.78 2.81-2.81c.8-.78.8-2.07 0-2.86zM5.41 20L4 18.59l7.72-7.72 1.47 1.35L5.41 20z\"/>\n",
              "  </svg>\n",
              "      </button>\n",
              "      \n",
              "  <style>\n",
              "    .colab-df-container {\n",
              "      display:flex;\n",
              "      flex-wrap:wrap;\n",
              "      gap: 12px;\n",
              "    }\n",
              "\n",
              "    .colab-df-convert {\n",
              "      background-color: #E8F0FE;\n",
              "      border: none;\n",
              "      border-radius: 50%;\n",
              "      cursor: pointer;\n",
              "      display: none;\n",
              "      fill: #1967D2;\n",
              "      height: 32px;\n",
              "      padding: 0 0 0 0;\n",
              "      width: 32px;\n",
              "    }\n",
              "\n",
              "    .colab-df-convert:hover {\n",
              "      background-color: #E2EBFA;\n",
              "      box-shadow: 0px 1px 2px rgba(60, 64, 67, 0.3), 0px 1px 3px 1px rgba(60, 64, 67, 0.15);\n",
              "      fill: #174EA6;\n",
              "    }\n",
              "\n",
              "    [theme=dark] .colab-df-convert {\n",
              "      background-color: #3B4455;\n",
              "      fill: #D2E3FC;\n",
              "    }\n",
              "\n",
              "    [theme=dark] .colab-df-convert:hover {\n",
              "      background-color: #434B5C;\n",
              "      box-shadow: 0px 1px 3px 1px rgba(0, 0, 0, 0.15);\n",
              "      filter: drop-shadow(0px 1px 2px rgba(0, 0, 0, 0.3));\n",
              "      fill: #FFFFFF;\n",
              "    }\n",
              "  </style>\n",
              "\n",
              "      <script>\n",
              "        const buttonEl =\n",
              "          document.querySelector('#df-b9a27bad-55dc-40bd-a1fe-0480b68c8e62 button.colab-df-convert');\n",
              "        buttonEl.style.display =\n",
              "          google.colab.kernel.accessAllowed ? 'block' : 'none';\n",
              "\n",
              "        async function convertToInteractive(key) {\n",
              "          const element = document.querySelector('#df-b9a27bad-55dc-40bd-a1fe-0480b68c8e62');\n",
              "          const dataTable =\n",
              "            await google.colab.kernel.invokeFunction('convertToInteractive',\n",
              "                                                     [key], {});\n",
              "          if (!dataTable) return;\n",
              "\n",
              "          const docLinkHtml = 'Like what you see? Visit the ' +\n",
              "            '<a target=\"_blank\" href=https://colab.research.google.com/notebooks/data_table.ipynb>data table notebook</a>'\n",
              "            + ' to learn more about interactive tables.';\n",
              "          element.innerHTML = '';\n",
              "          dataTable['output_type'] = 'display_data';\n",
              "          await google.colab.output.renderOutput(dataTable, element);\n",
              "          const docLink = document.createElement('div');\n",
              "          docLink.innerHTML = docLinkHtml;\n",
              "          element.appendChild(docLink);\n",
              "        }\n",
              "      </script>\n",
              "    </div>\n",
              "  </div>\n",
              "  "
            ]
          },
          "metadata": {},
          "execution_count": 26
        }
      ],
      "source": [
        "instagram = pd.read_csv(\"instagram_users.csv\")\n",
        "instagram"
      ]
    },
    {
      "cell_type": "markdown",
      "id": "2fd48ba4",
      "metadata": {
        "id": "2fd48ba4"
      },
      "source": [
        "# Q3: Split tha dataset into training and testing"
      ]
    },
    {
      "cell_type": "code",
      "source": [
        "X = instagram.iloc[:, :-1]\n",
        "y = instagram.iloc[:, -1]"
      ],
      "metadata": {
        "id": "2gcXGIeFuA0p"
      },
      "id": "2gcXGIeFuA0p",
      "execution_count": 27,
      "outputs": []
    },
    {
      "cell_type": "code",
      "execution_count": 28,
      "id": "9e94233d",
      "metadata": {
        "id": "9e94233d"
      },
      "outputs": [],
      "source": [
        "\n",
        "X_train, X_test, y_train, y_test = train_test_split(X, y)"
      ]
    },
    {
      "cell_type": "markdown",
      "id": "6db25de6",
      "metadata": {
        "id": "6db25de6"
      },
      "source": [
        "# Q4: Build three machine models "
      ]
    },
    {
      "cell_type": "markdown",
      "id": "2a9943d1",
      "metadata": {
        "id": "2a9943d1"
      },
      "source": [
        "## Q4.1: The first machine model\n",
        "- Print the model's name.\n",
        "- Print the model's accuracy.\n",
        "- Print the model's confusion matrix."
      ]
    },
    {
      "cell_type": "code",
      "execution_count": 29,
      "id": "0e8f4d29",
      "metadata": {
        "colab": {
          "base_uri": "https://localhost:8080/",
          "height": 386
        },
        "id": "0e8f4d29",
        "outputId": "636a5834-ed77-401d-f133-b8822e8544a7"
      },
      "outputs": [
        {
          "output_type": "stream",
          "name": "stdout",
          "text": [
            "Model: Decision Tree\n",
            "Accuracy = 0.8553016624120541\n"
          ]
        },
        {
          "output_type": "stream",
          "name": "stderr",
          "text": [
            "/usr/local/lib/python3.7/dist-packages/sklearn/utils/deprecation.py:87: FutureWarning: Function plot_confusion_matrix is deprecated; Function `plot_confusion_matrix` is deprecated in 1.0 and will be removed in 1.2. Use one of the class methods: ConfusionMatrixDisplay.from_predictions or ConfusionMatrixDisplay.from_estimator.\n",
            "  warnings.warn(msg, category=FutureWarning)\n"
          ]
        },
        {
          "output_type": "execute_result",
          "data": {
            "text/plain": [
              "<sklearn.metrics._plot.confusion_matrix.ConfusionMatrixDisplay at 0x7fe3dfc25310>"
            ]
          },
          "metadata": {},
          "execution_count": 29
        },
        {
          "output_type": "display_data",
          "data": {
            "text/plain": [
              "<Figure size 432x288 with 2 Axes>"
            ],
            "image/png": "[encoded data removed]"
          },
          "metadata": {
            "needs_background": "light"
          }
        }
      ],
      "source": [
        "from sklearn.tree import DecisionTreeClassifier\n",
        "\n",
        "dtree = DecisionTreeClassifier().fit(X_train, y_train)\n",
        "y_hat = dtree.predict(X_test)\n",
        "\n",
        "print(\"Model: Decision Tree\")\n",
        "print(\"Accuracy =\", dtree.score(X_test, y_test))\n",
        "plot_confusion_matrix(dtree, X_test, y_test)"
      ]
    },
    {
      "cell_type": "markdown",
      "id": "55c11dc4",
      "metadata": {
        "id": "55c11dc4"
      },
      "source": [
        "## Q4.2: The second machine model\n",
        "- Print the model's name.\n",
        "- Print the model's accuracy.\n",
        "- Print the model's confusion matrix."
      ]
    },
    {
      "cell_type": "code",
      "execution_count": 30,
      "id": "b37a0953",
      "metadata": {
        "colab": {
          "base_uri": "https://localhost:8080/",
          "height": 386
        },
        "id": "b37a0953",
        "outputId": "3b3befbe-af30-421d-cb65-c731e7f7f6e5"
      },
      "outputs": [
        {
          "output_type": "stream",
          "name": "stdout",
          "text": [
            "Model: Random Forest\n",
            "Accuracy = 0.8975779839362431\n"
          ]
        },
        {
          "output_type": "stream",
          "name": "stderr",
          "text": [
            "/usr/local/lib/python3.7/dist-packages/sklearn/utils/deprecation.py:87: FutureWarning: Function plot_confusion_matrix is deprecated; Function `plot_confusion_matrix` is deprecated in 1.0 and will be removed in 1.2. Use one of the class methods: ConfusionMatrixDisplay.from_predictions or ConfusionMatrixDisplay.from_estimator.\n",
            "  warnings.warn(msg, category=FutureWarning)\n"
          ]
        },
        {
          "output_type": "execute_result",
          "data": {
            "text/plain": [
              "<sklearn.metrics._plot.confusion_matrix.ConfusionMatrixDisplay at 0x7fe3dfbcb4d0>"
            ]
          },
          "metadata": {},
          "execution_count": 30
        },
        {
          "output_type": "display_data",
          "data": {
            "text/plain": [
              "<Figure size 432x288 with 2 Axes>"
            ],
            "image/png": "[encoded data removed]"
          },
          "metadata": {
            "needs_background": "light"
          }
        }
      ],
      "source": [
        "from sklearn.ensemble import RandomForestClassifier\n",
        "\n",
        "rfc = RandomForestClassifier(n_estimators=50).fit(X_train, y_train)\n",
        "y_hat = rfc.predict(X_test)\n",
        "\n",
        "print(\"Model: Random Forest\")\n",
        "print(\"Accuracy =\", rfc.score(X_test, y_test))\n",
        "plot_confusion_matrix(rfc, X_test, y_test)"
      ]
    },
    {
      "cell_type": "markdown",
      "id": "311f9f19",
      "metadata": {
        "id": "311f9f19"
      },
      "source": [
        "## Q4.3: The third machine model\n",
        "- Print the model's name.\n",
        "- Print the model's accuracy.\n",
        "- Print the model's confusion matrix."
      ]
    },
    {
      "cell_type": "code",
      "execution_count": 32,
      "id": "f73c0c18",
      "metadata": {
        "colab": {
          "base_uri": "https://localhost:8080/",
          "height": 386
        },
        "id": "f73c0c18",
        "outputId": "7c258884-bc5e-4b47-a67f-84780d1e0a1a"
      },
      "outputs": [
        {
          "output_type": "stream",
          "name": "stdout",
          "text": [
            "Model: Logistic Regression\n",
            "Accuracy = 0.8020048564846523\n"
          ]
        },
        {
          "output_type": "stream",
          "name": "stderr",
          "text": [
            "/usr/local/lib/python3.7/dist-packages/sklearn/utils/deprecation.py:87: FutureWarning: Function plot_confusion_matrix is deprecated; Function `plot_confusion_matrix` is deprecated in 1.0 and will be removed in 1.2. Use one of the class methods: ConfusionMatrixDisplay.from_predictions or ConfusionMatrixDisplay.from_estimator.\n",
            "  warnings.warn(msg, category=FutureWarning)\n"
          ]
        },
        {
          "output_type": "execute_result",
          "data": {
            "text/plain": [
              "<sklearn.metrics._plot.confusion_matrix.ConfusionMatrixDisplay at 0x7fe3dbe41bd0>"
            ]
          },
          "metadata": {},
          "execution_count": 32
        },
        {
          "output_type": "display_data",
          "data": {
            "text/plain": [
              "<Figure size 432x288 with 2 Axes>"
            ],
            "image/png": "[encoded data removed]"
          },
          "metadata": {
            "needs_background": "light"
          }
        }
      ],
      "source": [
        "from sklearn.linear_model import LogisticRegression\n",
        "\n",
        "log_reg = LogisticRegression(max_iter=10000).fit(X_train, y_train)\n",
        "y_hat = log_reg.predict(X_test)\n",
        "\n",
        "print(\"Model: Logistic Regression\")\n",
        "print(\"Accuracy =\", log_reg.score(X_test, y_test))\n",
        "plot_confusion_matrix(log_reg, X_test, y_test)"
      ]
    }
  ],
  "metadata": {
    "kernelspec": {
      "display_name": "Python 3",
      "language": "python",
      "name": "python3"
    },
    "language_info": {
      "codemirror_mode": {
        "name": "ipython",
        "version": 3
      },
      "file_extension": ".py",
      "mimetype": "text/x-python",
      "name": "python",
      "nbconvert_exporter": "python",
      "pygments_lexer": "ipython3",
      "version": "3.8.8"
    },
    "colab": {
      "name": "Day#12_Decision_Trees_Assignment.ipynb",
      "provenance": []
    }
  },
  "nbformat": 4,
  "nbformat_minor": 5
}